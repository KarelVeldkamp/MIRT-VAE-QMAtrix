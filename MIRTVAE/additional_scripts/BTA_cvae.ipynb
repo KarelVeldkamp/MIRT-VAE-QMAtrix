{
 "cells": [
  {
   "cell_type": "code",
   "execution_count": 31,
   "id": "e4f68ace",
   "metadata": {},
   "outputs": [],
   "source": [
    "import sys\n",
    "module_path = \"../\"\n",
    "if module_path not in sys.path:\n",
    "    sys.path.append(module_path)"
   ]
  },
  {
   "cell_type": "code",
   "execution_count": 32,
   "id": "ed2a28e5-d014-41c5-a9a5-0d10d9f0bdc8",
   "metadata": {},
   "outputs": [],
   "source": [
    "from model import *\n",
    "from data import *\n",
    "from helpers import *\n",
    "import numpy as np\n",
    "import pandas as pd\n",
    "import yaml\n",
    "from pytorch_lightning import Trainer\n",
    "from pytorch_lightning.callbacks.early_stopping import EarlyStopping\n",
    "from pytorch_lightning.loggers import CSVLogger\n",
    "from torch.utils.data import DataLoader, Dataset\n",
    "import sys\n",
    "import time"
   ]
  },
  {
   "cell_type": "code",
   "execution_count": 33,
   "id": "4e6a9055",
   "metadata": {},
   "outputs": [],
   "source": [
    "X = torch.Tensor(pd.read_csv('../../data/DataFiles/Algebra30.csv', header=None).values)\n",
    "Q = torch.Tensor(pd.read_csv('../QMatrices/QMatrixAlgebra.csv', index_col=0).values)\n"
   ]
  },
  {
   "cell_type": "code",
   "execution_count": 34,
   "id": "f5e3d007",
   "metadata": {},
   "outputs": [],
   "source": [
    "with open(\"../config.yml\", \"r\") as f:\n",
    "    cfg = yaml.safe_load(f)\n",
    "    cfg = cfg['configs']\n"
   ]
  },
  {
   "cell_type": "code",
   "execution_count": 35,
   "id": "c6d3f3fe",
   "metadata": {},
   "outputs": [
    {
     "name": "stderr",
     "output_type": "stream",
     "text": [
      "GPU available: True (mps), used: True\n",
      "TPU available: False, using: 0 TPU cores\n",
      "IPU available: False, using: 0 IPUs\n",
      "HPU available: False, using: 0 HPUs\n",
      "/Users/karel/Documents/GitHub/VAE-MIRT-Missing/MIRTVAE/additional_scripts/../data.py:46: UserWarning: To copy construct from a tensor, it is recommended to use sourceTensor.clone().detach() or sourceTensor.clone().detach().requires_grad_(True), rather than torch.tensor(sourceTensor).\n",
      "  self.x_train = torch.tensor(X, dtype=torch.float32)\n",
      "\n",
      "  | Name      | Type               | Params\n",
      "-------------------------------------------------\n",
      "0 | encoder   | ConditionalEncoder | 3.4 K \n",
      "1 | sampler   | SamplingLayer      | 0     \n",
      "2 | transform | Identity           | 0     \n",
      "3 | decoder   | Decoder            | 750   \n",
      "-------------------------------------------------\n",
      "4.2 K     Trainable params\n",
      "0         Non-trainable params\n",
      "4.2 K     Total params\n",
      "0.017     Total estimated model params size (MB)\n",
      "/Library/Frameworks/Python.framework/Versions/3.10/lib/python3.10/site-packages/pytorch_lightning/trainer/connectors/data_connector.py:441: The 'train_dataloader' does not have many workers which may be a bottleneck. Consider increasing the value of the `num_workers` argument` to `num_workers=10` in the `DataLoader` to improve performance.\n"
     ]
    },
    {
     "name": "stdout",
     "output_type": "stream",
     "text": [
      "0\n",
      "Epoch 62: 100%|███████████████████████████████████████████████████████████████████████████████████████████████████████████████████████████████████████████████████████████████████████| 41/41 [00:00<00:00, 71.60it/s]\n",
      "36.40827298164368\n"
     ]
    },
    {
     "name": "stderr",
     "output_type": "stream",
     "text": [
      "GPU available: True (mps), used: True\n",
      "TPU available: False, using: 0 TPU cores\n",
      "IPU available: False, using: 0 IPUs\n",
      "HPU available: False, using: 0 HPUs\n",
      "\n",
      "  | Name      | Type               | Params\n",
      "-------------------------------------------------\n",
      "0 | encoder   | ConditionalEncoder | 3.4 K \n",
      "1 | sampler   | SamplingLayer      | 0     \n",
      "2 | transform | Identity           | 0     \n",
      "3 | decoder   | Decoder            | 750   \n",
      "-------------------------------------------------\n",
      "4.2 K     Trainable params\n",
      "0         Non-trainable params\n",
      "4.2 K     Total params\n",
      "0.017     Total estimated model params size (MB)\n"
     ]
    },
    {
     "name": "stdout",
     "output_type": "stream",
     "text": [
      "1\n",
      "Epoch 48:  20%|████████████████████████████████▊                                                                                                                                       | 8/41 [00:00<00:00, 71.57it/s]"
     ]
    },
    {
     "name": "stderr",
     "output_type": "stream",
     "text": [
      "IOPub message rate exceeded.\n",
      "The Jupyter server will temporarily stop sending output\n",
      "to the client in order to avoid crashing it.\n",
      "To change this limit, set the config variable\n",
      "`--ServerApp.iopub_msg_rate_limit`.\n",
      "\n",
      "Current values:\n",
      "ServerApp.iopub_msg_rate_limit=1000.0 (msgs/sec)\n",
      "ServerApp.rate_limit_window=3.0 (secs)\n",
      "\n"
     ]
    },
    {
     "name": "stdout",
     "output_type": "stream",
     "text": [
      "Epoch 57: 100%|███████████████████████████████████████████████████████████████████████████████████████████████████████████████████████████████████████████████████████████████████████| 41/41 [00:00<00:00, 64.21it/s]\n",
      "36.49779987335205\n"
     ]
    },
    {
     "name": "stderr",
     "output_type": "stream",
     "text": [
      "GPU available: True (mps), used: True\n",
      "TPU available: False, using: 0 TPU cores\n",
      "IPU available: False, using: 0 IPUs\n",
      "HPU available: False, using: 0 HPUs\n",
      "\n",
      "  | Name      | Type               | Params\n",
      "-------------------------------------------------\n",
      "0 | encoder   | ConditionalEncoder | 3.4 K \n",
      "1 | sampler   | SamplingLayer      | 0     \n",
      "2 | transform | Identity           | 0     \n",
      "3 | decoder   | Decoder            | 750   \n",
      "-------------------------------------------------\n",
      "4.2 K     Trainable params\n",
      "0         Non-trainable params\n",
      "4.2 K     Total params\n",
      "0.017     Total estimated model params size (MB)\n"
     ]
    },
    {
     "name": "stdout",
     "output_type": "stream",
     "text": [
      "9\n",
      "Epoch 19:  27%|████████████████████████████████████████████▊                                                                                                                          | 11/41 [00:00<00:00, 70.52it/s]"
     ]
    },
    {
     "name": "stderr",
     "output_type": "stream",
     "text": [
      "IOPub message rate exceeded.\n",
      "The Jupyter server will temporarily stop sending output\n",
      "to the client in order to avoid crashing it.\n",
      "To change this limit, set the config variable\n",
      "`--ServerApp.iopub_msg_rate_limit`.\n",
      "\n",
      "Current values:\n",
      "ServerApp.iopub_msg_rate_limit=1000.0 (msgs/sec)\n",
      "ServerApp.rate_limit_window=3.0 (secs)\n",
      "\n"
     ]
    },
    {
     "name": "stdout",
     "output_type": "stream",
     "text": [
      "Epoch 60: 100%|███████████████████████████████████████████████████████████████████████████████████████████████████████████████████████████████████████████████████████████████████████| 41/41 [00:00<00:00, 58.21it/s]\n",
      "36.647398948669434\n"
     ]
    },
    {
     "name": "stderr",
     "output_type": "stream",
     "text": [
      "GPU available: True (mps), used: True\n",
      "TPU available: False, using: 0 TPU cores\n",
      "IPU available: False, using: 0 IPUs\n",
      "HPU available: False, using: 0 HPUs\n",
      "\n",
      "  | Name      | Type               | Params\n",
      "-------------------------------------------------\n",
      "0 | encoder   | ConditionalEncoder | 3.4 K \n",
      "1 | sampler   | SamplingLayer      | 0     \n",
      "2 | transform | Identity           | 0     \n",
      "3 | decoder   | Decoder            | 750   \n",
      "-------------------------------------------------\n",
      "4.2 K     Trainable params\n",
      "0         Non-trainable params\n",
      "4.2 K     Total params\n",
      "0.017     Total estimated model params size (MB)\n"
     ]
    },
    {
     "name": "stdout",
     "output_type": "stream",
     "text": [
      "10\n",
      "Epoch 41:  39%|█████████████████████████████████████████████████████████████████▏                                                                                                     | 16/41 [00:00<00:00, 70.94it/s]"
     ]
    },
    {
     "name": "stderr",
     "output_type": "stream",
     "text": [
      "IOPub message rate exceeded.\n",
      "The Jupyter server will temporarily stop sending output\n",
      "to the client in order to avoid crashing it.\n",
      "To change this limit, set the config variable\n",
      "`--ServerApp.iopub_msg_rate_limit`.\n",
      "\n",
      "Current values:\n",
      "ServerApp.iopub_msg_rate_limit=1000.0 (msgs/sec)\n",
      "ServerApp.rate_limit_window=3.0 (secs)\n",
      "\n"
     ]
    },
    {
     "name": "stdout",
     "output_type": "stream",
     "text": [
      "Epoch 53: 100%|███████████████████████████████████████████████████████████████████████████████████████████████████████████████████████████████████████████████████████████████████████| 41/41 [00:00<00:00, 66.75it/s]\n",
      "32.676167011260986\n"
     ]
    },
    {
     "name": "stderr",
     "output_type": "stream",
     "text": [
      "GPU available: True (mps), used: True\n",
      "TPU available: False, using: 0 TPU cores\n",
      "IPU available: False, using: 0 IPUs\n",
      "HPU available: False, using: 0 HPUs\n",
      "\n",
      "  | Name      | Type               | Params\n",
      "-------------------------------------------------\n",
      "0 | encoder   | ConditionalEncoder | 3.4 K \n",
      "1 | sampler   | SamplingLayer      | 0     \n",
      "2 | transform | Identity           | 0     \n",
      "3 | decoder   | Decoder            | 750   \n",
      "-------------------------------------------------\n",
      "4.2 K     Trainable params\n",
      "0         Non-trainable params\n",
      "4.2 K     Total params\n",
      "0.017     Total estimated model params size (MB)\n"
     ]
    },
    {
     "name": "stdout",
     "output_type": "stream",
     "text": [
      "14\n",
      "Epoch 39:  63%|█████████████████████████████████████████████████████████████████████████████████████████████████████████▉                                                             | 26/41 [00:00<00:00, 69.59it/s]"
     ]
    },
    {
     "name": "stderr",
     "output_type": "stream",
     "text": [
      "IOPub message rate exceeded.\n",
      "The Jupyter server will temporarily stop sending output\n",
      "to the client in order to avoid crashing it.\n",
      "To change this limit, set the config variable\n",
      "`--ServerApp.iopub_msg_rate_limit`.\n",
      "\n",
      "Current values:\n",
      "ServerApp.iopub_msg_rate_limit=1000.0 (msgs/sec)\n",
      "ServerApp.rate_limit_window=3.0 (secs)\n",
      "\n"
     ]
    },
    {
     "name": "stdout",
     "output_type": "stream",
     "text": [
      "Epoch 53: 100%|███████████████████████████████████████████████████████████████████████████████████████████████████████████████████████████████████████████████████████████████████████| 41/41 [00:00<00:00, 69.99it/s]\n",
      "32.984330892562866\n"
     ]
    }
   ],
   "source": [
    "\n",
    "# initialise model and optimizer\n",
    "logger = CSVLogger(\"logs\", name='algebra', version=0)\n",
    "trainer = Trainer(fast_dev_run=cfg['single_epoch_test_run'],\n",
    "                  max_epochs=cfg['max_epochs'],\n",
    "                  enable_checkpointing=False, \n",
    "                  logger=False, \n",
    "                  callbacks=[EarlyStopping(monitor='train_loss', min_delta=cfg['min_delta'], patience=cfg['patience'], mode='min')])\n",
    "\n",
    "dataset = SimDataset(X)\n",
    "train_loader = DataLoader(dataset, batch_size=cfg['batch_size'], shuffle=False)\n",
    "vae = CVAE(nitems=X.shape[1],\n",
    "            dataloader=train_loader,\n",
    "            latent_dims=cfg['mirt_dim'],\n",
    "            hidden_layer_size=cfg['hidden_layer_size'],\n",
    "            qm=Q,\n",
    "            learning_rate=cfg['learning_rate'],\n",
    "            batch_size=cfg['batch_size'],\n",
    "            beta=cfg['beta'],\n",
    "            n_samples=cfg['n_iw_samples']\n",
    "          )\n",
    "\n",
    "start = time.time()\n",
    "trainer.fit(vae)\n",
    "runtime = time.time()-start\n",
    "print(runtime)\n",
    "\n",
    "a_est = vae.decoder.weights.t().detach().numpy()\n",
    "d_est = vae.decoder.bias.t().detach().numpy()\n",
    "\n",
    "dataset = SimDataset(X)\n",
    "train_loader = DataLoader(dataset, batch_size=X.shape[0], shuffle=False)\n",
    "data, mask = next(iter(train_loader))\n",
    "_, log_sigma_est  = vae.encoder(data, mask)\n",
    "post_samples = vae.fscores((data, mask), cfg['model'])\n",
    "theta_est = post_samples.mean(0)\n",
    "\n",
    "\n",
    "for d in range(9):\n",
    "    if np.corrcoef(theta_est[:,d], theta_est_full[:,d])[1,0] < 0:\n",
    "        a_est[:,d] *= -1\n",
    "        theta_est[:,d] *=-1\n",
    "    \n"
   ]
  },
  {
   "cell_type": "code",
   "execution_count": null,
   "id": "e253a44b",
   "metadata": {},
   "outputs": [],
   "source": []
  },
  {
   "cell_type": "code",
   "execution_count": 40,
   "id": "aa2b5dd3-08b8-4e24-b5db-a034686b1474",
   "metadata": {},
   "outputs": [
    {
     "ename": "TypeError",
     "evalue": "repeat() takes at most 2 arguments (3 given)",
     "output_type": "error",
     "traceback": [
      "\u001b[0;31m---------------------------------------------------------------------------\u001b[0m",
      "\u001b[0;31mTypeError\u001b[0m                                 Traceback (most recent call last)",
      "Cell \u001b[0;32mIn[40], line 1\u001b[0m\n\u001b[0;32m----> 1\u001b[0m mu \u001b[38;5;241m=\u001b[39m \u001b[43mtheta_est\u001b[49m\u001b[38;5;241;43m.\u001b[39;49m\u001b[43mrepeat\u001b[49m\u001b[43m(\u001b[49m\u001b[38;5;241;43m500\u001b[39;49m\u001b[43m,\u001b[49m\u001b[43m \u001b[49m\u001b[38;5;241;43m1\u001b[39;49m\u001b[43m,\u001b[49m\u001b[43m \u001b[49m\u001b[38;5;241;43m1\u001b[39;49m\u001b[43m)\u001b[49m\n\u001b[1;32m      2\u001b[0m sigma \u001b[38;5;241m=\u001b[39m log_sigma_est\u001b[38;5;241m.\u001b[39mrepeat(\u001b[38;5;241m500\u001b[39m, \u001b[38;5;241m1\u001b[39m, \u001b[38;5;241m1\u001b[39m)\n\u001b[1;32m      3\u001b[0m vae\u001b[38;5;241m.\u001b[39mtransform\u001b[38;5;241m.\u001b[39mn_samples \u001b[38;5;241m=\u001b[39m \u001b[38;5;241m500\u001b[39m\n",
      "\u001b[0;31mTypeError\u001b[0m: repeat() takes at most 2 arguments (3 given)"
     ]
    }
   ],
   "source": [
    "mu = theta_est.repeat(500, 1, 1)\n",
    "sigma = log_sigma_est.repeat(500, 1, 1)\n",
    "vae.transform.n_samples = 500\n",
    "z = vae.sampler(mu, sigma)\n",
    "z_transformed = vae.transform(z)\n",
    "\n",
    "\n",
    "\n",
    "# For each of the 10000 elements, we need to compute the corss products\n",
    "cov_matrix = torch.einsum('ijk,ijl->jkl', z_transformed, z_transformed) / (z_transformed.shape[0] - 1)\n",
    "\n",
    "# Step 4: Convert the covariance matrix to a correlation matrix\n",
    "std_dev = torch.sqrt(torch.diagonal(cov_matrix, dim1=-2, dim2=-1)).unsqueeze(-1)\n",
    "est_cov_mat = (cov_matrix / (std_dev @ std_dev.transpose(-2, -1))).detach().numpy().mean(0)\n",
    "est_cor_mat = np.abs(cov2cor(est_cov_mat))\n",
    "est_cors = np.corrcoef(theta_est.T)[np.triu_indices(9, 1)]"
   ]
  },
  {
   "cell_type": "code",
   "execution_count": 41,
   "id": "0b2ac9b6-bd70-42d0-9eed-120072d0707d",
   "metadata": {},
   "outputs": [],
   "source": [
    "est_cors = np.corrcoef(theta_est.T)"
   ]
  },
  {
   "cell_type": "code",
   "execution_count": 42,
   "id": "d8684d65",
   "metadata": {},
   "outputs": [],
   "source": [
    "np.savetxt('/Users/karel/Documents/GitHub/VAE-MIRT-Missing/data/algebra/a_est', a_est, \n",
    "              delimiter = \",\")\n",
    "np.savetxt('/Users/karel/Documents/GitHub/VAE-MIRT-Missing/data/algebra/d_est', d_est, \n",
    "              delimiter = \",\")\n",
    "np.savetxt('/Users/karel/Documents/GitHub/VAE-MIRT-Missing/data/algebra/theta_est', theta_est, \n",
    "              delimiter = \",\")\n",
    "np.savetxt('/Users/karel/Documents/GitHub/VAE-MIRT-Missing/data/algebra/cor_est', est_cors, \n",
    "              delimiter = \",\")\n"
   ]
  },
  {
   "cell_type": "code",
   "execution_count": null,
   "id": "528a8a63-7dd3-4eff-a7a6-ae4d7c405804",
   "metadata": {},
   "outputs": [],
   "source": [
    "import pandas as pd\n",
    "a_est_full = pd.read_csv('/Users/karel/Documents/GitHub/VAE-MIRT-Missing/data/algebra/a_est_full', index_col=0).values\n",
    "theta_est_full = pd.read_csv('/Users/karel/Documents/GitHub/VAE-MIRT-Missing/data/algebra/theta_est_full', index_col=0).values\n"
   ]
  }
 ],
 "metadata": {
  "kernelspec": {
   "display_name": "Python 3 (ipykernel)",
   "language": "python",
   "name": "python3"
  },
  "language_info": {
   "codemirror_mode": {
    "name": "ipython",
    "version": 3
   },
   "file_extension": ".py",
   "mimetype": "text/x-python",
   "name": "python",
   "nbconvert_exporter": "python",
   "pygments_lexer": "ipython3",
   "version": "3.10.9"
  }
 },
 "nbformat": 4,
 "nbformat_minor": 5
}
