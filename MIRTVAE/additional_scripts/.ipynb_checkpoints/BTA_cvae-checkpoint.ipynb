{
 "cells": [
  {
   "cell_type": "code",
   "execution_count": 451,
   "id": "e4f68ace",
   "metadata": {},
   "outputs": [],
   "source": [
    "from model import *\n",
    "from data import *\n",
    "from helpers import *\n",
    "import numpy as np\n",
    "import pandas as pd\n",
    "import yaml\n",
    "from pytorch_lightning import Trainer\n",
    "from pytorch_lightning.callbacks.early_stopping import EarlyStopping\n",
    "from pytorch_lightning.loggers import CSVLogger\n",
    "from torch.utils.data import DataLoader, Dataset\n",
    "import sys\n",
    "import time"
   ]
  },
  {
   "cell_type": "code",
   "execution_count": 452,
   "id": "4e6a9055",
   "metadata": {},
   "outputs": [],
   "source": [
    "Q = torch.Tensor(pd.read_csv('data/algebra/QMatrixAlgebra.csv', header=None).values)\n",
    "X = torch.Tensor(pd.read_csv('data/algebra/Algebra.csv', header=None).values)"
   ]
  },
  {
   "cell_type": "code",
   "execution_count": 453,
   "id": "f5e3d007",
   "metadata": {},
   "outputs": [],
   "source": [
    "with open(\"./config.yml\", \"r\") as f:\n",
    "    cfg = yaml.safe_load(f)\n",
    "    cfg = cfg['configs']\n"
   ]
  },
  {
   "cell_type": "code",
   "execution_count": 454,
   "id": "c6d3f3fe",
   "metadata": {},
   "outputs": [
    {
     "name": "stderr",
     "output_type": "stream",
     "text": [
      "GPU available: True (mps), used: False\n",
      "TPU available: False, using: 0 TPU cores\n",
      "IPU available: False, using: 0 IPUs\n",
      "HPU available: False, using: 0 HPUs\n",
      "/Users/karel/miniforge3/lib/python3.10/site-packages/pytorch_lightning/trainer/setup.py:200: UserWarning: MPS available but not used. Set `accelerator` and `devices` using `Trainer(accelerator='mps', devices=1)`.\n",
      "  rank_zero_warn(\n",
      "/Users/karel/Documents/GitHub/MIRT-VAE-QMAtrix/data.py:46: UserWarning: To copy construct from a tensor, it is recommended to use sourceTensor.clone().detach() or sourceTensor.clone().detach().requires_grad_(True), rather than torch.tensor(sourceTensor).\n",
      "  self.x_train = torch.tensor(X, dtype=torch.float32)\n"
     ]
    }
   ],
   "source": [
    "# initialise model and optimizer\n",
    "logger = CSVLogger(\"logs\", name='algebra', version=0)\n",
    "trainer = Trainer(fast_dev_run=cfg['single_epoch_test_run'],\n",
    "                  max_epochs=cfg['max_epochs'],\n",
    "                  enable_checkpointing=False, \n",
    "                  logger=False, \n",
    "                  callbacks=[EarlyStopping(monitor='train_loss', min_delta=cfg['min_delta'], patience=cfg['patience'], mode='min')])\n",
    "\n",
    "dataset = SimDataset(X)\n",
    "train_loader = DataLoader(dataset, batch_size=cfg['batch_size'], shuffle=False)\n",
    "vae = CVAE(nitems=X.shape[1],\n",
    "            dataloader=train_loader,\n",
    "            latent_dims=cfg['mirt_dim'],\n",
    "            hidden_layer_size=cfg['hidden_layer_size'],\n",
    "            qm=Q,\n",
    "            learning_rate=cfg['learning_rate'],\n",
    "            batch_size=cfg['batch_size'],\n",
    "            beta=cfg['beta'],\n",
    "            n_samples=cfg['n_iw_samples']\n",
    "          )"
   ]
  },
  {
   "cell_type": "code",
   "execution_count": 455,
   "id": "f176cdf2",
   "metadata": {},
   "outputs": [
    {
     "name": "stderr",
     "output_type": "stream",
     "text": [
      "\n",
      "  | Name    | Type               | Params\n",
      "-----------------------------------------------\n",
      "0 | encoder | ConditionalEncoder | 3.4 K \n",
      "1 | sampler | SamplingLayer      | 0     \n",
      "2 | decoder | Decoder            | 750   \n",
      "-----------------------------------------------\n",
      "4.2 K     Trainable params\n",
      "0         Non-trainable params\n",
      "4.2 K     Total params\n",
      "0.017     Total estimated model params size (MB)\n",
      "/Users/karel/miniforge3/lib/python3.10/site-packages/pytorch_lightning/trainer/connectors/data_connector.py:224: PossibleUserWarning: The dataloader, train_dataloader, does not have many workers which may be a bottleneck. Consider increasing the value of the `num_workers` argument` (try 8 which is the number of cpus on this machine) in the `DataLoader` init to improve performance.\n",
      "  rank_zero_warn(\n"
     ]
    },
    {
     "data": {
      "application/vnd.jupyter.widget-view+json": {
       "model_id": "a9450fc27afa432591e9644a83f878e1",
       "version_major": 2,
       "version_minor": 0
      },
      "text/plain": [
       "Training: 0it [00:00, ?it/s]"
      ]
     },
     "metadata": {},
     "output_type": "display_data"
    },
    {
     "name": "stdout",
     "output_type": "stream",
     "text": [
      "24.12007975578308\n"
     ]
    }
   ],
   "source": [
    "start = time.time()\n",
    "trainer.fit(vae)\n",
    "runtime = time.time()-start\n",
    "print(runtime)\n"
   ]
  },
  {
   "cell_type": "code",
   "execution_count": 456,
   "id": "f93b0883",
   "metadata": {},
   "outputs": [],
   "source": [
    "a_est = vae.decoder.weights.t().detach().numpy()\n",
    "d_est = vae.decoder.bias.t().detach().numpy()\n"
   ]
  },
  {
   "cell_type": "code",
   "execution_count": 457,
   "id": "e253a44b",
   "metadata": {},
   "outputs": [],
   "source": [
    "dataset = SimDataset(X)\n",
    "train_loader = DataLoader(dataset, batch_size=X.shape[0], shuffle=False)\n",
    "data, mask = next(iter(train_loader))\n",
    "theta_est, log_sigma_est  = vae.encoder(data, mask)\n",
    "theta_est = theta_est.detach().numpy()"
   ]
  },
  {
   "cell_type": "code",
   "execution_count": 458,
   "id": "3eb62f4b",
   "metadata": {},
   "outputs": [],
   "source": [
    "a_full = pd.read_csv('/Users/karel/Documents/GitHub/MIRT-VAE-QMAtrix/data/algebra/a_est0_mirt', index_col=0).values\n",
    "theta_full = pd.read_csv('/Users/karel/Documents/GitHub/MIRT-VAE-QMAtrix/data/algebra/theta_est0_mirt', index_col=0).values\n",
    "d_full = pd.read_csv('/Users/karel/Documents/GitHub/MIRT-VAE-QMAtrix/data/algebra/d_est0_mirt', index_col=0).values"
   ]
  },
  {
   "cell_type": "code",
   "execution_count": 459,
   "id": "7660d30e",
   "metadata": {},
   "outputs": [],
   "source": [
    "for d in range(9):\n",
    "    if a_full[:,d] @ a_est[:, d] < 0:\n",
    "        a_est[:,d] *= -1\n",
    "        theta_est[:,d] *= -1"
   ]
  },
  {
   "cell_type": "code",
   "execution_count": 460,
   "id": "e0c7783b",
   "metadata": {},
   "outputs": [
    {
     "name": "stdout",
     "output_type": "stream",
     "text": [
      "99.3986412974578\n",
      "2576.2116842422383\n",
      "[646.1945721]\n"
     ]
    }
   ],
   "source": [
    "print(np.trace(a_est.T @ a_full))\n",
    "print(np.trace(theta_est.T @ theta_full))\n",
    "print(d_est.T@d_full)"
   ]
  },
  {
   "cell_type": "markdown",
   "id": "c9e3c08b",
   "metadata": {},
   "source": [
    "np.savetxt('/Users/karel/Documents/GitHub/MIRT-VAE-QMAtrix/data/algebra/a_est', a_est, \n",
    "              delimiter = \",\")\n",
    "np.savetxt('/Users/karel/Documents/GitHub/MIRT-VAE-QMAtrix/data/algebra/d_est', d_est, \n",
    "              delimiter = \",\")\n",
    "np.savetxt('/Users/karel/Documents/GitHub/MIRT-VAE-QMAtrix/data/algebra/theta_est', theta_est, \n",
    "              delimiter = \",\")"
   ]
  },
  {
   "cell_type": "code",
   "execution_count": null,
   "id": "d8684d65",
   "metadata": {},
   "outputs": [],
   "source": []
  }
 ],
 "metadata": {
  "kernelspec": {
   "display_name": "Python 3 (ipykernel)",
   "language": "python",
   "name": "python3"
  },
  "language_info": {
   "codemirror_mode": {
    "name": "ipython",
    "version": 3
   },
   "file_extension": ".py",
   "mimetype": "text/x-python",
   "name": "python",
   "nbconvert_exporter": "python",
   "pygments_lexer": "ipython3",
   "version": "3.10.6"
  }
 },
 "nbformat": 4,
 "nbformat_minor": 5
}
